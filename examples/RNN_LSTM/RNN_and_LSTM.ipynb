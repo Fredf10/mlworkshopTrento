{
 "cells": [
  {
   "cell_type": "markdown",
   "metadata": {},
   "source": [
    "# In this notebook we'll have a look at time-series and reccurent neural nets (RNN) and in particular LSTM\n",
    "\n",
    "useful links:\n",
    "- http://colah.github.io/posts/2015-08-Understanding-LSTMs/\n",
    "- https://towardsdatascience.com/recurrent-neural-networks-d4642c9bc7ce\n",
    "- https://machinelearningmastery.com/time-series-prediction-lstm-recurrent-neural-networks-python-keras/\n",
    "\n",
    "We'll first test how a simple LSTM network can learn to predict y[n + 1] based on a synthetical a cosine wave with exponential amplitude. We'll then have a look at a time-series from invasive pressure measurements."
   ]
  },
  {
   "cell_type": "code",
   "execution_count": null,
   "metadata": {},
   "outputs": [],
   "source": [
    "import numpy as np\n",
    "from keras.models import Sequential\n",
    "from keras.layers import Dense\n",
    "from keras.layers import LSTM\n",
    "from sklearn.preprocessing import MinMaxScaler\n",
    "from sklearn.metrics import mean_squared_error\n",
    "import matplotlib.pyplot as plt\n",
    "import math\n",
    "%matplotlib inline\n",
    "\n",
    "t_start = 0\n",
    "t_end = 2*np.pi\n",
    "N = 1001\n",
    "t = np.linspace(t_start, t_end, N)\n",
    "y = np.cos(5*t)*np.exp(2*t/t_end)\n",
    "\n",
    "case = \"exponential\"\n",
    "\n",
    "if case == \"P\":\n",
    "    data = np.genfromtxt(\"data/run_5\")\n",
    "    t = data[:, 0]\n",
    "    y = data[:, 1]\n",
    "plt.figure()\n",
    "plt.plot(t, y)\n",
    "\n",
    "y = y[:, np.newaxis] # turn 1D array into 2D array of shape (N, 1)\n",
    "\n",
    "\n",
    "print(np.shape(data), np.shape(y))\n"
   ]
  },
  {
   "cell_type": "code",
   "execution_count": null,
   "metadata": {},
   "outputs": [],
   "source": [
    "# convert an array of values into a dataset matrix\n",
    "def create_dataset(dataset, look_back=1):\n",
    "    # dataX contain y_value of current time-step in addition to the previous (look_back - 1) time-steps\n",
    "    # dataY contain the y_value of the next time-step\n",
    "    dataX, dataY = [], []\n",
    "    for i in range(len(dataset)-look_back-1):\n",
    "        a = dataset[i:(i+look_back), 0]\n",
    "        dataX.append(a)\n",
    "        dataY.append(dataset[i + look_back, 0])\n",
    "    return np.array(dataX), np.array(dataY)\n",
    "\n",
    "look_back = 10\n",
    "epochs = 10\n",
    "trainFrac = 0.5\n",
    "LSTM_blocks = 4\n",
    "\n",
    "scaler = MinMaxScaler(feature_range=(0, 1))\n",
    "y = scaler.fit_transform(y)\n",
    "# split into train and test sets\n",
    "train_size = int(len(y) * trainFrac)\n",
    "test_size = len(y) - train_size\n",
    "y_train, y_test = y[0:train_size,:], y[train_size:len(y),:]\n"
   ]
  },
  {
   "cell_type": "code",
   "execution_count": null,
   "metadata": {},
   "outputs": [],
   "source": [
    "trainX, trainY = create_dataset(y_train, look_back)\n",
    "testX, testY = create_dataset(y_test, look_back)\n",
    "# turn 2D (N_train, look_back) array into 3D array of shape (N_train, 1, look_back)\n",
    "# dims should be [samples, time steps, features]\n",
    "trainX = np.reshape(trainX, (trainX.shape[0], 1, trainX.shape[1])) \n",
    "testX = np.reshape(testX, (testX.shape[0], 1, testX.shape[1]))\n",
    "trainY = trainY[:, np.newaxis] # turn 1D array into 2D array of shape (N, 1)\n",
    "testY = testY[:, np.newaxis] # turn 1D array into 2D array of shape (N, 1)"
   ]
  },
  {
   "cell_type": "code",
   "execution_count": null,
   "metadata": {},
   "outputs": [],
   "source": [
    "model = Sequential()\n",
    "model.add(LSTM(LSTM_blocks, input_shape=(1, look_back)))\n",
    "model.add(Dense(1))\n",
    "model.compile(loss='mean_squared_error', optimizer='adam')\n",
    "model.fit(trainX, trainY, epochs=epochs, batch_size=1, verbose=2)\n",
    "# make predictions\n",
    "trainPredict = model.predict(trainX)\n",
    "testPredict = model.predict(testX)\n"
   ]
  },
  {
   "cell_type": "code",
   "execution_count": null,
   "metadata": {},
   "outputs": [],
   "source": [
    "trainPredict = scaler.inverse_transform(trainPredict)\n",
    "trainY = scaler.inverse_transform(trainY)\n",
    "testPredict = scaler.inverse_transform(testPredict)\n",
    "testY = scaler.inverse_transform(testY)\n",
    "# calculate root mean squared error\n",
    "trainScore = math.sqrt(mean_squared_error(trainY[:,0], trainPredict[:,0]))\n",
    "print('Train Score: %.2f RMSE' % (trainScore))\n",
    "testScore = math.sqrt(mean_squared_error(testY[:,0], testPredict[:,0]))\n",
    "print('Test Score: %.2f RMSE' % (testScore))\n",
    "# shift train predictions for plotting\n",
    "trainPredictPlot = np.empty_like(y)\n",
    "trainPredictPlot[:, :] = np.nan\n",
    "trainPredictPlot[look_back:len(trainPredict)+look_back, :] = trainPredict\n",
    "# shift test predictions for plotting\n",
    "testPredictPlot = np.empty_like(y)\n",
    "testPredictPlot[:, :] = np.nan\n",
    "testPredictPlot[len(trainPredict)+(look_back*2)+1:len(y)-1, :] = testPredict\n",
    "# plot baseline and predictions\n",
    "plt.plot(scaler.inverse_transform(y))\n",
    "plt.plot(trainPredictPlot)\n",
    "plt.plot(testPredictPlot)\n",
    "plt.show()"
   ]
  }
 ],
 "metadata": {
  "kernelspec": {
   "display_name": "Python 3",
   "language": "python",
   "name": "python3"
  },
  "language_info": {
   "codemirror_mode": {
    "name": "ipython",
    "version": 3
   },
   "file_extension": ".py",
   "mimetype": "text/x-python",
   "name": "python",
   "nbconvert_exporter": "python",
   "pygments_lexer": "ipython3",
   "version": "3.6.7"
  }
 },
 "nbformat": 4,
 "nbformat_minor": 2
}
