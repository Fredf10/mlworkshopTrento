{
 "cells": [
  {
   "cell_type": "code",
   "execution_count": null,
   "metadata": {},
   "outputs": [],
   "source": [
    "import os\n",
    "import numpy as np\n",
    "import keras\n",
    "import tensorflow as tf\n",
    "\n",
    "from sklearn import preprocessing\n",
    "from sklearn.model_selection import train_test_split\n",
    "tf.logging.set_verbosity(tf.logging.ERROR) # depreciate warnings"
   ]
  },
  {
   "cell_type": "code",
   "execution_count": null,
   "metadata": {},
   "outputs": [],
   "source": [
    "#===================================================\n",
    "# load data and split training set into actual training and validation sets\n",
    "#===================================================\n",
    "dataNameTrain = \"WK2Data_train\" # for training the model\n",
    "dataNameTest = \"WK2Data_test\" # for testing the model\n",
    "\n",
    "testFracTest = 0.3\n",
    "colNames = [\"C\", \"R\", \"P_sys\", \"P_dia\", \"PP\"]\n",
    "featureCols = [0, 1] # C and R\n",
    "labelCol = 4 # PP\n",
    "\n",
    "data = np.genfromtxt(dataNameTrain, skip_header=True)\n",
    "x, y = data[:,featureCols].copy(), data[:,labelCol].copy()\n",
    "train_X, val_X, train_Y, val_Y = train_test_split(x, y, test_size=testFracTest, random_state=42)\n",
    "#===================================================\n",
    "# scale inputs\n",
    "#===================================================\n",
    "scaler = preprocessing.StandardScaler()\n",
    "train_X = scaler.fit_transform(train_X) # fit (find mu and std) scaler and transform data\n",
    "val_X  = scaler.transform(val_X) # transform data based on mu and std from training/learning set\n",
    "#===================================================\n",
    "# set parameters for Neural net\n",
    "#===================================================\n",
    "afFunc = \"relu\"\n",
    "opt = 'adagrad'\n",
    "lossFunc= 'mae'\n",
    "max_epochs = 300\n",
    "batch_size = 100\n",
    "\n"
   ]
  },
  {
   "cell_type": "code",
   "execution_count": null,
   "metadata": {},
   "outputs": [],
   "source": [
    "#===================================================\n",
    "# set up Neural net\n",
    "#===================================================\n",
    "model = keras.Sequential()\n",
    " \n",
    "model.add(keras.layers.Dense(50, activation=afFunc, input_dim=2))\n",
    "model.add(keras.layers.Dense(50, activation=afFunc))\n",
    "model.add(keras.layers.Dense(1, activation='linear'))\n",
    "model.compile(optimizer=opt,\n",
    "              loss=lossFunc)"
   ]
  },
  {
   "cell_type": "code",
   "execution_count": null,
   "metadata": {},
   "outputs": [],
   "source": [
    "#===================================================\n",
    "# train model\n",
    "#===================================================\n",
    "model.fit(train_X, train_Y, epochs=max_epochs, batch_size=batch_size, verbose=1)"
   ]
  },
  {
   "cell_type": "code",
   "execution_count": null,
   "metadata": {},
   "outputs": [],
   "source": [
    "val_Y_pred = model.predict(val_X).flatten()"
   ]
  },
  {
   "cell_type": "code",
   "execution_count": null,
   "metadata": {},
   "outputs": [],
   "source": [
    "from plotScripts import plotScatterGeneric, plotBAGeneric"
   ]
  },
  {
   "cell_type": "code",
   "execution_count": null,
   "metadata": {},
   "outputs": [],
   "source": [
    "plotScatterGeneric(val_Y, val_Y_pred, \"PP\", \"PP_ML\")"
   ]
  },
  {
   "cell_type": "code",
   "execution_count": null,
   "metadata": {},
   "outputs": [],
   "source": []
  }
 ],
 "metadata": {
  "kernelspec": {
   "display_name": "Python 3",
   "language": "python",
   "name": "python3"
  },
  "language_info": {
   "codemirror_mode": {
    "name": "ipython",
    "version": 3
   },
   "file_extension": ".py",
   "mimetype": "text/x-python",
   "name": "python",
   "nbconvert_exporter": "python",
   "pygments_lexer": "ipython3",
   "version": "3.7.3"
  }
 },
 "nbformat": 4,
 "nbformat_minor": 4
}
